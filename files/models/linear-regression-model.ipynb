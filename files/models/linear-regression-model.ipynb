{
 "cells": [
  {
   "cell_type": "code",
   "execution_count": 26,
   "id": "8094139f-9dac-4e5a-b915-ae17559f2273",
   "metadata": {},
   "outputs": [],
   "source": [
    "import os\n",
    "import pandas as pd\n",
    "import seaborn as sns\n",
    "import matplotlib.pyplot as plt\n",
    "\n",
    "# Path to your dataset\n",
    "modified_file_dir= '../data/'\n",
    "dataset_path = modified_file_dir + 'energy_efficiency_data.csv.'\n"
   ]
  },
  {
   "cell_type": "code",
   "execution_count": 27,
   "id": "8c1249fd-712d-4d46-bdd7-2d216286a873",
   "metadata": {},
   "outputs": [],
   "source": [
    "\n",
    "\n",
    "\n",
    "def save_as(data, modified_file_dir, filename, file_type='csv'):\n",
    "    '''Save the DataFrame to a file (CSV, Excel, or Pickle).'''\n",
    "    try:\n",
    "        # Ensure the directory exists\n",
    "        if not os.path.exists(modified_file_dir):\n",
    "            os.makedirs(modified_file_dir)\n",
    "\n",
    "        # Define the full path for the file\n",
    "        file_path = os.path.join(modified_file_dir, filename)\n",
    "\n",
    "        if data is not None:\n",
    "            if file_type == 'csv':\n",
    "                data.to_csv(file_path, index=False)\n",
    "                print(f\"Data saved as {file_path}.\")\n",
    "            elif file_type == 'excel':\n",
    "                data.to_excel(file_path, index=False)\n",
    "                print(f\"Data saved as {file_path}.\")\n",
    "            elif file_type == 'pickle':\n",
    "                data.to_pickle(file_path)\n",
    "                print(f\"Data saved as {file_path}.\")\n",
    "            else:\n",
    "                print(\"Unsupported file type.\")\n",
    "        else:\n",
    "            print(\"The provided data is None.\")\n",
    "    except Exception as e:\n",
    "        print(f\"An error occurred: {e}\")\n"
   ]
  },
  {
   "cell_type": "code",
   "execution_count": 3,
   "id": "1be9ff7e-849d-463e-9224-1264046b570c",
   "metadata": {},
   "outputs": [
    {
     "name": "stdout",
     "output_type": "stream",
     "text": [
      "Dataset loaded successfully!\n"
     ]
    }
   ],
   "source": [
    "# Check if the path is not None and load the dataset\n",
    "if dataset_path:\n",
    "    try:\n",
    "        energy_efficiency_dataset = pd.read_csv(dataset_path)\n",
    "        print(\"Dataset loaded successfully!\")\n",
    "        #print(energy_efficiency_dataset.head())  # Display the first few rows\n",
    "    except FileNotFoundError:\n",
    "        print(f\"File not found at the path: {dataset_path}\")\n",
    "    except Exception as e:\n",
    "        print(f\"An error occurred: {e}\")\n",
    "else:\n",
    "    print(\"Dataset path is None. Please provide a valid path.\")\n",
    "\n"
   ]
  },
  {
   "cell_type": "code",
   "execution_count": 4,
   "id": "240629ec-1b27-4ea4-8b08-5294b57e2b33",
   "metadata": {},
   "outputs": [
    {
     "data": {
      "text/html": [
       "<div>\n",
       "<style scoped>\n",
       "    .dataframe tbody tr th:only-of-type {\n",
       "        vertical-align: middle;\n",
       "    }\n",
       "\n",
       "    .dataframe tbody tr th {\n",
       "        vertical-align: top;\n",
       "    }\n",
       "\n",
       "    .dataframe thead th {\n",
       "        text-align: right;\n",
       "    }\n",
       "</style>\n",
       "<table border=\"1\" class=\"dataframe\">\n",
       "  <thead>\n",
       "    <tr style=\"text-align: right;\">\n",
       "      <th></th>\n",
       "      <th>Relative Compactness</th>\n",
       "      <th>Surface Area</th>\n",
       "      <th>Wall Area</th>\n",
       "      <th>Roof Area</th>\n",
       "      <th>Overall Height</th>\n",
       "      <th>Orientation</th>\n",
       "      <th>Glazing Area</th>\n",
       "      <th>Glazing Area Distribution</th>\n",
       "      <th>Heating Load</th>\n",
       "      <th>Cooling Load</th>\n",
       "    </tr>\n",
       "  </thead>\n",
       "  <tbody>\n",
       "    <tr>\n",
       "      <th>0</th>\n",
       "      <td>0.98</td>\n",
       "      <td>514.5</td>\n",
       "      <td>294.0</td>\n",
       "      <td>110.25</td>\n",
       "      <td>7.0</td>\n",
       "      <td>2</td>\n",
       "      <td>0.0</td>\n",
       "      <td>0</td>\n",
       "      <td>15.55</td>\n",
       "      <td>21.33</td>\n",
       "    </tr>\n",
       "    <tr>\n",
       "      <th>1</th>\n",
       "      <td>0.98</td>\n",
       "      <td>514.5</td>\n",
       "      <td>294.0</td>\n",
       "      <td>110.25</td>\n",
       "      <td>7.0</td>\n",
       "      <td>3</td>\n",
       "      <td>0.0</td>\n",
       "      <td>0</td>\n",
       "      <td>15.55</td>\n",
       "      <td>21.33</td>\n",
       "    </tr>\n",
       "    <tr>\n",
       "      <th>2</th>\n",
       "      <td>0.98</td>\n",
       "      <td>514.5</td>\n",
       "      <td>294.0</td>\n",
       "      <td>110.25</td>\n",
       "      <td>7.0</td>\n",
       "      <td>4</td>\n",
       "      <td>0.0</td>\n",
       "      <td>0</td>\n",
       "      <td>15.55</td>\n",
       "      <td>21.33</td>\n",
       "    </tr>\n",
       "    <tr>\n",
       "      <th>3</th>\n",
       "      <td>0.98</td>\n",
       "      <td>514.5</td>\n",
       "      <td>294.0</td>\n",
       "      <td>110.25</td>\n",
       "      <td>7.0</td>\n",
       "      <td>5</td>\n",
       "      <td>0.0</td>\n",
       "      <td>0</td>\n",
       "      <td>15.55</td>\n",
       "      <td>21.33</td>\n",
       "    </tr>\n",
       "    <tr>\n",
       "      <th>4</th>\n",
       "      <td>0.90</td>\n",
       "      <td>563.5</td>\n",
       "      <td>318.5</td>\n",
       "      <td>122.50</td>\n",
       "      <td>7.0</td>\n",
       "      <td>2</td>\n",
       "      <td>0.0</td>\n",
       "      <td>0</td>\n",
       "      <td>20.84</td>\n",
       "      <td>28.28</td>\n",
       "    </tr>\n",
       "  </tbody>\n",
       "</table>\n",
       "</div>"
      ],
      "text/plain": [
       "   Relative Compactness  Surface Area  Wall Area  Roof Area  Overall Height  \\\n",
       "0                  0.98         514.5      294.0     110.25             7.0   \n",
       "1                  0.98         514.5      294.0     110.25             7.0   \n",
       "2                  0.98         514.5      294.0     110.25             7.0   \n",
       "3                  0.98         514.5      294.0     110.25             7.0   \n",
       "4                  0.90         563.5      318.5     122.50             7.0   \n",
       "\n",
       "   Orientation  Glazing Area  Glazing Area Distribution  Heating Load  \\\n",
       "0            2           0.0                          0         15.55   \n",
       "1            3           0.0                          0         15.55   \n",
       "2            4           0.0                          0         15.55   \n",
       "3            5           0.0                          0         15.55   \n",
       "4            2           0.0                          0         20.84   \n",
       "\n",
       "   Cooling Load  \n",
       "0         21.33  \n",
       "1         21.33  \n",
       "2         21.33  \n",
       "3         21.33  \n",
       "4         28.28  "
      ]
     },
     "execution_count": 4,
     "metadata": {},
     "output_type": "execute_result"
    }
   ],
   "source": [
    "data = energy_efficiency_dataset\n",
    "data.head()"
   ]
  },
  {
   "cell_type": "code",
   "execution_count": 5,
   "id": "74229d51-933a-4931-a135-0de10a7d094c",
   "metadata": {},
   "outputs": [
    {
     "data": {
      "text/html": [
       "<div>\n",
       "<style scoped>\n",
       "    .dataframe tbody tr th:only-of-type {\n",
       "        vertical-align: middle;\n",
       "    }\n",
       "\n",
       "    .dataframe tbody tr th {\n",
       "        vertical-align: top;\n",
       "    }\n",
       "\n",
       "    .dataframe thead th {\n",
       "        text-align: right;\n",
       "    }\n",
       "</style>\n",
       "<table border=\"1\" class=\"dataframe\">\n",
       "  <thead>\n",
       "    <tr style=\"text-align: right;\">\n",
       "      <th></th>\n",
       "      <th>Relative Compactness</th>\n",
       "      <th>Surface Area</th>\n",
       "      <th>Wall Area</th>\n",
       "      <th>Roof Area</th>\n",
       "      <th>Overall Height</th>\n",
       "      <th>Orientation</th>\n",
       "      <th>Glazing Area</th>\n",
       "      <th>Glazing Area Distribution</th>\n",
       "    </tr>\n",
       "  </thead>\n",
       "  <tbody>\n",
       "    <tr>\n",
       "      <th>0</th>\n",
       "      <td>0.98</td>\n",
       "      <td>514.5</td>\n",
       "      <td>294.0</td>\n",
       "      <td>110.25</td>\n",
       "      <td>7.0</td>\n",
       "      <td>2</td>\n",
       "      <td>0.0</td>\n",
       "      <td>0</td>\n",
       "    </tr>\n",
       "    <tr>\n",
       "      <th>1</th>\n",
       "      <td>0.98</td>\n",
       "      <td>514.5</td>\n",
       "      <td>294.0</td>\n",
       "      <td>110.25</td>\n",
       "      <td>7.0</td>\n",
       "      <td>3</td>\n",
       "      <td>0.0</td>\n",
       "      <td>0</td>\n",
       "    </tr>\n",
       "    <tr>\n",
       "      <th>2</th>\n",
       "      <td>0.98</td>\n",
       "      <td>514.5</td>\n",
       "      <td>294.0</td>\n",
       "      <td>110.25</td>\n",
       "      <td>7.0</td>\n",
       "      <td>4</td>\n",
       "      <td>0.0</td>\n",
       "      <td>0</td>\n",
       "    </tr>\n",
       "    <tr>\n",
       "      <th>3</th>\n",
       "      <td>0.98</td>\n",
       "      <td>514.5</td>\n",
       "      <td>294.0</td>\n",
       "      <td>110.25</td>\n",
       "      <td>7.0</td>\n",
       "      <td>5</td>\n",
       "      <td>0.0</td>\n",
       "      <td>0</td>\n",
       "    </tr>\n",
       "    <tr>\n",
       "      <th>4</th>\n",
       "      <td>0.90</td>\n",
       "      <td>563.5</td>\n",
       "      <td>318.5</td>\n",
       "      <td>122.50</td>\n",
       "      <td>7.0</td>\n",
       "      <td>2</td>\n",
       "      <td>0.0</td>\n",
       "      <td>0</td>\n",
       "    </tr>\n",
       "  </tbody>\n",
       "</table>\n",
       "</div>"
      ],
      "text/plain": [
       "   Relative Compactness  Surface Area  Wall Area  Roof Area  Overall Height  \\\n",
       "0                  0.98         514.5      294.0     110.25             7.0   \n",
       "1                  0.98         514.5      294.0     110.25             7.0   \n",
       "2                  0.98         514.5      294.0     110.25             7.0   \n",
       "3                  0.98         514.5      294.0     110.25             7.0   \n",
       "4                  0.90         563.5      318.5     122.50             7.0   \n",
       "\n",
       "   Orientation  Glazing Area  Glazing Area Distribution  \n",
       "0            2           0.0                          0  \n",
       "1            3           0.0                          0  \n",
       "2            4           0.0                          0  \n",
       "3            5           0.0                          0  \n",
       "4            2           0.0                          0  "
      ]
     },
     "execution_count": 5,
     "metadata": {},
     "output_type": "execute_result"
    }
   ],
   "source": [
    "from statsmodels.stats.outliers_influence import variance_inflation_factor\n",
    "from statsmodels.tools.tools import add_constant\n",
    "from sklearn.preprocessing import StandardScaler\n",
    "import pandas as pd\n",
    "\n",
    "# Splitting the data\n",
    "y1 = data['Heating Load']\n",
    "y2 = data['Cooling Load']\n",
    "X = data.drop(['Heating Load', 'Cooling Load'], axis=1)\n",
    "X.head()\n",
    "\n"
   ]
  },
  {
   "cell_type": "code",
   "execution_count": 6,
   "id": "ed80e0ee-d4d2-4397-a788-7dcb11a0955b",
   "metadata": {},
   "outputs": [
    {
     "name": "stdout",
     "output_type": "stream",
     "text": [
      "                     feature         VIF\n",
      "0                      const         NaN\n",
      "1       Relative Compactness  105.524054\n",
      "2               Surface Area         inf\n",
      "3                  Wall Area         inf\n",
      "4                  Roof Area         inf\n",
      "5             Overall Height   31.205474\n",
      "6                Orientation    1.000000\n",
      "7               Glazing Area    1.047508\n",
      "8  Glazing Area Distribution    1.047508\n"
     ]
    },
    {
     "name": "stderr",
     "output_type": "stream",
     "text": [
      "C:\\Users\\gogir\\AppData\\Local\\Packages\\PythonSoftwareFoundation.Python.3.11_qbz5n2kfra8p0\\LocalCache\\local-packages\\Python311\\site-packages\\statsmodels\\regression\\linear_model.py:1784: RuntimeWarning: invalid value encountered in scalar divide\n",
      "  return 1 - self.ssr/self.uncentered_tss\n",
      "C:\\Users\\gogir\\AppData\\Local\\Packages\\PythonSoftwareFoundation.Python.3.11_qbz5n2kfra8p0\\LocalCache\\local-packages\\Python311\\site-packages\\statsmodels\\stats\\outliers_influence.py:197: RuntimeWarning: divide by zero encountered in scalar divide\n",
      "  vif = 1. / (1. - r_squared_i)\n"
     ]
    }
   ],
   "source": [
    "# Add constant to account for intercept\n",
    "X_const = add_constant(X)\n",
    "\n",
    "# Standardize the data\n",
    "scaler = StandardScaler()\n",
    "X_scaled = scaler.fit_transform(X_const)\n",
    "\n",
    "# Calculate VIF\n",
    "vif_data = pd.DataFrame()\n",
    "vif_data['feature'] = X_const.columns  # Use the column names from X_const\n",
    "vif_data['VIF'] = [variance_inflation_factor(X_scaled, i) for i in range(X_scaled.shape[1])]\n",
    "\n",
    "print(vif_data)"
   ]
  },
  {
   "cell_type": "code",
   "execution_count": 7,
   "id": "1cf63aba-b073-45b3-a523-4dba8660e509",
   "metadata": {},
   "outputs": [
    {
     "data": {
      "text/html": [
       "<div>\n",
       "<style scoped>\n",
       "    .dataframe tbody tr th:only-of-type {\n",
       "        vertical-align: middle;\n",
       "    }\n",
       "\n",
       "    .dataframe tbody tr th {\n",
       "        vertical-align: top;\n",
       "    }\n",
       "\n",
       "    .dataframe thead th {\n",
       "        text-align: right;\n",
       "    }\n",
       "</style>\n",
       "<table border=\"1\" class=\"dataframe\">\n",
       "  <thead>\n",
       "    <tr style=\"text-align: right;\">\n",
       "      <th></th>\n",
       "      <th>Wall Area</th>\n",
       "      <th>Roof Area</th>\n",
       "      <th>Overall Height</th>\n",
       "      <th>Orientation</th>\n",
       "      <th>Glazing Area</th>\n",
       "      <th>Glazing Area Distribution</th>\n",
       "      <th>Compactness_Surface_Area</th>\n",
       "    </tr>\n",
       "  </thead>\n",
       "  <tbody>\n",
       "    <tr>\n",
       "      <th>0</th>\n",
       "      <td>294.0</td>\n",
       "      <td>110.25</td>\n",
       "      <td>7.0</td>\n",
       "      <td>2</td>\n",
       "      <td>0.0</td>\n",
       "      <td>0</td>\n",
       "      <td>-2.706558</td>\n",
       "    </tr>\n",
       "    <tr>\n",
       "      <th>1</th>\n",
       "      <td>294.0</td>\n",
       "      <td>110.25</td>\n",
       "      <td>7.0</td>\n",
       "      <td>3</td>\n",
       "      <td>0.0</td>\n",
       "      <td>0</td>\n",
       "      <td>-2.706558</td>\n",
       "    </tr>\n",
       "    <tr>\n",
       "      <th>2</th>\n",
       "      <td>294.0</td>\n",
       "      <td>110.25</td>\n",
       "      <td>7.0</td>\n",
       "      <td>4</td>\n",
       "      <td>0.0</td>\n",
       "      <td>0</td>\n",
       "      <td>-2.706558</td>\n",
       "    </tr>\n",
       "    <tr>\n",
       "      <th>3</th>\n",
       "      <td>294.0</td>\n",
       "      <td>110.25</td>\n",
       "      <td>7.0</td>\n",
       "      <td>5</td>\n",
       "      <td>0.0</td>\n",
       "      <td>0</td>\n",
       "      <td>-2.706558</td>\n",
       "    </tr>\n",
       "    <tr>\n",
       "      <th>4</th>\n",
       "      <td>318.5</td>\n",
       "      <td>122.50</td>\n",
       "      <td>7.0</td>\n",
       "      <td>2</td>\n",
       "      <td>0.0</td>\n",
       "      <td>0</td>\n",
       "      <td>-1.777820</td>\n",
       "    </tr>\n",
       "  </tbody>\n",
       "</table>\n",
       "</div>"
      ],
      "text/plain": [
       "   Wall Area  Roof Area  Overall Height  Orientation  Glazing Area  \\\n",
       "0      294.0     110.25             7.0            2           0.0   \n",
       "1      294.0     110.25             7.0            3           0.0   \n",
       "2      294.0     110.25             7.0            4           0.0   \n",
       "3      294.0     110.25             7.0            5           0.0   \n",
       "4      318.5     122.50             7.0            2           0.0   \n",
       "\n",
       "   Glazing Area Distribution  Compactness_Surface_Area  \n",
       "0                          0                 -2.706558  \n",
       "1                          0                 -2.706558  \n",
       "2                          0                 -2.706558  \n",
       "3                          0                 -2.706558  \n",
       "4                          0                 -1.777820  "
      ]
     },
     "execution_count": 7,
     "metadata": {},
     "output_type": "execute_result"
    }
   ],
   "source": [
    "from sklearn.decomposition import PCA\n",
    "from sklearn.preprocessing import StandardScaler\n",
    "\n",
    "\n",
    "'''\n",
    "combine Relative Compactness and Surface Area, especially given their strong negative correlation\n",
    "'''\n",
    "# Select columns to combine\n",
    "columns_to_combine = ['Relative Compactness', 'Surface Area']\n",
    "\n",
    "# Standardize the data\n",
    "scaler = StandardScaler()\n",
    "X_scaled = scaler.fit_transform(X[columns_to_combine])\n",
    "\n",
    "# Apply PCA\n",
    "pca = PCA(n_components=1)\n",
    "principal_component = pca.fit_transform(X_scaled)\n",
    "\n",
    "# Add the new component to the dataset\n",
    "X['Compactness_Surface_Area'] = principal_component\n",
    "\n",
    "# DROP both columns from dataset\n",
    "\n",
    "X.drop(['Relative Compactness', 'Surface Area'], axis=1, inplace=True)\n",
    "\n",
    "\n",
    "X.head()"
   ]
  },
  {
   "cell_type": "code",
   "execution_count": 8,
   "id": "84e754e8-da4c-4442-bed9-940b85baa94d",
   "metadata": {},
   "outputs": [
    {
     "name": "stdout",
     "output_type": "stream",
     "text": [
      "                            Orientation     Wall Area     Roof Area  \\\n",
      "Orientation                1.000000e+00 -9.490230e-18 -6.086727e-17   \n",
      "Wall Area                 -9.490230e-18  1.000000e+00 -2.923165e-01   \n",
      "Roof Area                 -6.086727e-17 -2.923165e-01  1.000000e+00   \n",
      "Compactness_Surface_Area  -5.936563e-17  2.000471e-01  8.765480e-01   \n",
      "Overall Height             3.989787e-17  2.809757e-01 -9.725122e-01   \n",
      "Glazing Area              -9.406007e-16 -8.567455e-17 -1.759011e-15   \n",
      "Glazing Area Distribution -2.549352e-16  2.067384e-16 -1.078071e-15   \n",
      "Heating Load              -2.586534e-03  4.556712e-01 -8.618283e-01   \n",
      "Cooling Load               1.428960e-02  4.271170e-01 -8.625466e-01   \n",
      "\n",
      "                           Compactness_Surface_Area  Overall Height  \\\n",
      "Orientation                           -5.936563e-17    3.989787e-17   \n",
      "Wall Area                              2.000471e-01    2.809757e-01   \n",
      "Roof Area                              8.765480e-01   -9.725122e-01   \n",
      "Compactness_Surface_Area               1.000000e+00   -8.446594e-01   \n",
      "Overall Height                        -8.446594e-01    1.000000e+00   \n",
      "Glazing Area                           4.462259e-17    1.489134e-17   \n",
      "Glazing Area Distribution             -2.484765e-17   -2.920613e-17   \n",
      "Heating Load                          -6.414963e-01    8.894307e-01   \n",
      "Cooling Load                          -6.549965e-01    8.957852e-01   \n",
      "\n",
      "                           Glazing Area  Glazing Area Distribution  \\\n",
      "Orientation               -9.406007e-16              -2.549352e-16   \n",
      "Wall Area                 -8.567455e-17               2.067384e-16   \n",
      "Roof Area                 -1.759011e-15              -1.078071e-15   \n",
      "Compactness_Surface_Area   4.462259e-17              -2.484765e-17   \n",
      "Overall Height             1.489134e-17              -2.920613e-17   \n",
      "Glazing Area               1.000000e+00               2.129642e-01   \n",
      "Glazing Area Distribution  2.129642e-01               1.000000e+00   \n",
      "Heating Load               2.698410e-01               8.736759e-02   \n",
      "Cooling Load               2.075050e-01               5.052512e-02   \n",
      "\n",
      "                           Heating Load  Cooling Load  \n",
      "Orientation                   -0.002587      0.014290  \n",
      "Wall Area                      0.455671      0.427117  \n",
      "Roof Area                     -0.861828     -0.862547  \n",
      "Compactness_Surface_Area      -0.641496     -0.654996  \n",
      "Overall Height                 0.889431      0.895785  \n",
      "Glazing Area                   0.269841      0.207505  \n",
      "Glazing Area Distribution      0.087368      0.050525  \n",
      "Heating Load                   1.000000      0.975862  \n",
      "Cooling Load                   0.975862      1.000000  \n"
     ]
    }
   ],
   "source": [
    "# Ensure 'Heating Load' and 'Cooling Load' are included for correlation\n",
    "data['Compactness_Surface_Area'] = X['Compactness_Surface_Area']  # Add the new column to the original dataset\n",
    "\n",
    "# Compute correlation\n",
    "correlation_matrix = data[['Orientation', 'Wall Area', 'Roof Area', 'Compactness_Surface_Area', 'Overall Height', 'Glazing Area', 'Glazing Area Distribution', 'Heating Load', 'Cooling Load']].corr()\n",
    "print(correlation_matrix)\n"
   ]
  },
  {
   "cell_type": "code",
   "execution_count": 9,
   "id": "e16f2fa0-8067-46f0-9a68-54e3c70179a8",
   "metadata": {},
   "outputs": [
    {
     "name": "stdout",
     "output_type": "stream",
     "text": [
      "['Wall Area', 'Overall Height', 'Compactness_Surface_Area']\n"
     ]
    }
   ],
   "source": [
    "\"\"\"\n",
    "Roof Area: Redundant with \"Compactness_Surface_Area.\"\n",
    "Orientation: Insignificant correlation with targets and features.\n",
    "Glazing Area and Glazing Area Distribution: Minimal relevance to the targets.\n",
    "\"\"\"\n",
    "\n",
    "dropped_features = ['Roof Area', 'Orientation', 'Glazing Area', 'Glazing Area Distribution']\n",
    "\n",
    "feature_list = X.drop(dropped_features, axis=1)\n",
    "\n",
    "# Check the features\n",
    "features = list(feature_list.columns)\n",
    "print(features)"
   ]
  },
  {
   "cell_type": "code",
   "execution_count": 10,
   "id": "2e941fbe-70fa-4655-a10d-61accec7abb4",
   "metadata": {},
   "outputs": [
    {
     "data": {
      "image/png": "[encoded data removed]",
      "text/plain": [
       "<Figure size 1200x800 with 2 Axes>"
      ]
     },
     "metadata": {},
     "output_type": "display_data"
    }
   ],
   "source": [
    "correlation_matrix = feature_list.corr()\n",
    "plt.figure(figsize=(12, 8))\n",
    "sns.heatmap(correlation_matrix, annot=True, cmap='coolwarm', fmt='.2f', vmin=-1, vmax=1)\n",
    "plt.title('Correlation Matrix')\n",
    "plt.show()"
   ]
  },
  {
   "cell_type": "code",
   "execution_count": 13,
   "id": "4825e78b-403f-42d3-84bf-d7052eeba051",
   "metadata": {},
   "outputs": [
    {
     "name": "stdout",
     "output_type": "stream",
     "text": [
      "X_train shape: (614, 3), X_test shape: (154, 3)\n",
      "y_train_h shape: (614,), y_test_h shape: (154,)\n",
      "y_train_c shape: (614,), y_test_c shape: (154,)\n"
     ]
    }
   ],
   "source": [
    "from sklearn.model_selection import train_test_split\n",
    "\n",
    "# Define features and targets\n",
    "y = data[['Heating Load', 'Cooling Load']]\n",
    "X = feature_list\n",
    "\n",
    "# Split the dataset into training and testing sets\n",
    "X_train, X_test, y_train, y_test = train_test_split(\n",
    "    X, y, test_size=0.2, random_state=42\n",
    ")\n",
    "\n",
    "# Separate targets for training and testing sets\n",
    "y_train_h, y_train_c = y_train['Heating Load'], y_train['Cooling Load']\n",
    "y_test_h, y_test_c = y_test['Heating Load'], y_test['Cooling Load']\n",
    "\n",
    "# Verify the splits\n",
    "print(f\"X_train shape: {X_train.shape}, X_test shape: {X_test.shape}\")\n",
    "print(f\"y_train_h shape: {y_train_h.shape}, y_test_h shape: {y_test_h.shape}\")\n",
    "print(f\"y_train_c shape: {y_train_c.shape}, y_test_c shape: {y_test_c.shape}\")\n"
   ]
  },
  {
   "cell_type": "code",
   "execution_count": 14,
   "id": "8ea8154a-dcdf-49f5-aef6-da3d6d8eecd6",
   "metadata": {},
   "outputs": [],
   "source": [
    "# Linear regression\n",
    "from sklearn.linear_model import LinearRegression\n",
    "\n",
    "model_h = LinearRegression()\n",
    "model_c = LinearRegression()\n",
    "\n",
    "# Train the models\n",
    "model_h.fit(X_train, y_train_h)\n",
    "model_c.fit(X_train, y_train_c)\n",
    "\n",
    "# Predictions\n",
    "y_pred_h = model_h.predict(X_test)\n",
    "y_pred_c = model_c.predict(X_test)\n"
   ]
  },
  {
   "cell_type": "code",
   "execution_count": 15,
   "id": "f65267b0-fcf4-40c1-895f-dddf4103c110",
   "metadata": {},
   "outputs": [
    {
     "name": "stdout",
     "output_type": "stream",
     "text": [
      "Heating Load:\n",
      "MAE: 2.9587248712852774\n",
      "MSE: 15.647801777624544\n",
      "R²: 0.8498746126835943\n",
      "Cooling Load:\n",
      "MAE: 2.7554024955063117\n",
      "MSE: 13.440556517739994\n",
      "R²: 0.8549432621384248\n"
     ]
    }
   ],
   "source": [
    "# model evaluation\n",
    "from sklearn.metrics import mean_absolute_error, mean_squared_error, r2_score\n",
    "\n",
    "# MAE: indicates the average error between predicted and actual heating load values.\n",
    "# MSE: the squared deviations; larger outliers impact this more significantly\n",
    "# R:  shows the % of the variance in the heating load data is explained by the model.\n",
    "\n",
    "# Evaluate Heating Load\n",
    "print(\"Heating Load:\")\n",
    "print(\"MAE:\", mean_absolute_error(y_test_h, y_pred_h))\n",
    "print(\"MSE:\", mean_squared_error(y_test_h, y_pred_h))\n",
    "print(\"R²:\", r2_score(y_test_h, y_pred_h))\n",
    "\n",
    "# Evaluate Cooling Load\n",
    "print(\"Cooling Load:\")\n",
    "print(\"MAE:\", mean_absolute_error(y_test_c, y_pred_c))\n",
    "print(\"MSE:\", mean_squared_error(y_test_c, y_pred_c))\n",
    "print(\"R²:\", r2_score(y_test_c, y_pred_c))\n"
   ]
  },
  {
   "cell_type": "code",
   "execution_count": 21,
   "id": "3290dda0-9d8e-4ffb-86aa-fd488a714478",
   "metadata": {},
   "outputs": [
    {
     "name": "stdout",
     "output_type": "stream",
     "text": [
      "Cross-validation MSE: 16.80332413666522\n"
     ]
    }
   ],
   "source": [
    "from sklearn.model_selection import cross_val_score\n",
    "\n",
    "# Perform cross-validation for Heating Load using the training set\n",
    "scores = cross_val_score(model, X_train, y_train_h, cv=5, scoring='neg_mean_squared_error')\n",
    "\n",
    "# Print the mean squared error (MSE)\n",
    "print(\"Cross-validation MSE:\", -scores.mean())"
   ]
  },
  {
   "cell_type": "code",
   "execution_count": 22,
   "id": "e754c16f-c04f-47d5-9bc7-32fdd832cdb5",
   "metadata": {},
   "outputs": [
    {
     "name": "stdout",
     "output_type": "stream",
     "text": [
      "Cross-validation MSE: 14.861825953201265\n"
     ]
    }
   ],
   "source": [
    "from sklearn.model_selection import cross_val_score\n",
    "\n",
    "# Perform cross-validation for Cooling Load using the training set\n",
    "scores = cross_val_score(model, X_train, y_train_c, cv=5, scoring='neg_mean_squared_error')\n",
    "\n",
    "# Print the mean squared error (MSE)\n",
    "print(\"Cross-validation MSE:\", -scores.mean())"
   ]
  },
  {
   "cell_type": "code",
   "execution_count": 23,
   "id": "d56d7d25-f936-4210-b950-b49e15f24547",
   "metadata": {},
   "outputs": [
    {
     "name": "stdout",
     "output_type": "stream",
     "text": [
      "                    Feature  Coefficient\n",
      "0                 Wall Area     0.034888\n",
      "1            Overall Height     5.563885\n",
      "2  Compactness_Surface_Area     1.010258\n"
     ]
    }
   ],
   "source": [
    "feature_importance = pd.DataFrame({\n",
    "    'Feature': X.columns,\n",
    "    'Coefficient': model.coef_\n",
    "})\n",
    "print(feature_importance)\n"
   ]
  },
  {
   "cell_type": "code",
   "execution_count": 29,
   "id": "19df6ac2-2e32-455d-ace0-597a572fa887",
   "metadata": {},
   "outputs": [
    {
     "name": "stdout",
     "output_type": "stream",
     "text": [
      "Data saved as ../data/linear_regression_energy_eff_dataset.csv.\n"
     ]
    }
   ],
   "source": [
    "filename = 'linear_regression_energy_eff_dataset.csv'\n",
    "\n",
    "# Assuming 'data' is a combined DataFrame (features + target variables)\n",
    "data = pd.concat([X, y], axis=1)  # Combine features and target\n",
    "\n",
    "data.head()\n",
    "\n",
    "# Save the dataset\n",
    "save_as(data, modified_file_dir, filename, file_type='csv')"
   ]
  },
  {
   "cell_type": "code",
   "execution_count": null,
   "id": "c5db9470-6bf6-48b2-b965-8f2ba8428298",
   "metadata": {},
   "outputs": [],
   "source": []
  }
 ],
 "metadata": {
  "kernelspec": {
   "display_name": "Python 3 (ipykernel)",
   "language": "python",
   "name": "python3"
  },
  "language_info": {
   "codemirror_mode": {
    "name": "ipython",
    "version": 3
   },
   "file_extension": ".py",
   "mimetype": "text/x-python",
   "name": "python",
   "nbconvert_exporter": "python",
   "pygments_lexer": "ipython3",
   "version": "3.11.9"
  }
 },
 "nbformat": 4,
 "nbformat_minor": 5
}
